{
 "cells": [
  {
   "cell_type": "markdown",
   "metadata": {},
   "source": [
    "# Import Libraries"
   ]
  },
  {
   "cell_type": "code",
   "execution_count": 1,
   "metadata": {},
   "outputs": [],
   "source": [
    "from PIL import Image, ImageOps\n",
    "import matplotlib.pyplot as plt\n",
    "import pandas as pd\n",
    "import numpy as np\n",
    "from sklearn import datasets\n",
    "from sklearn.neural_network import MLPClassifier\n",
    "from sklearn.model_selection import train_test_split, cross_val_score\n",
    "from sklearn.metrics import confusion_matrix, classification_report, accuracy_score\n",
    "from IPython.core.display import display,HTML"
   ]
  },
  {
   "cell_type": "markdown",
   "metadata": {},
   "source": [
    "# Prepare Data(Picture)"
   ]
  },
  {
   "cell_type": "code",
   "execution_count": 2,
   "metadata": {},
   "outputs": [],
   "source": [
    "j = 0\n",
    "picture = np.zeros((54, 10000))\n",
    "imgfiles = [ 'flying01.png', 'flying02.png', 'flying03.png', 'flying04.png', 'flying05.png', 'flying06.png', 'flying07.png', 'flying08.png' \n",
    "                , 'flying09.png', 'flying10.png', 'flying11.png', 'flying12.png', 'flying13.png', 'flying14.png', 'flying15.png', 'flying16.png'\n",
    "                , 'flying17.png', 'flying18.png', 'flying19.png', 'flying20.png', 'flying21.png', 'flying22.png', 'flying23.png', 'flying24.png'\n",
    "                , 'n-flying01.png', 'n-flying02.png', 'n-flying03.png', 'n-flying04.png', 'n-flying05.png', 'n-flying06.png', 'n-flying07.png'\n",
    "                , 'n-flying08.png', 'n-flying09.png', 'n-flying10.png', 'n-flying11.png', 'n-flying12.png', 'n-flying13.png', 'n-flying14.png'\n",
    "                , 'n-flying15.png', 'n-flying16.png', 'n-flying17.png', 'n-flying18.png', 'n-flying19.png', 'n-flying20.png', 'n-flying21.png'\n",
    "                , 'n-flying22.png', 'n-flying23.png', 'n-flying24.png', 'n-flying25.png', 'n-flying26.png', 'n-flying27.png', 'n-flying28.png'\n",
    "                , 'n-flying29.png', 'n-flying30.png']\n",
    "for i in imgfiles:\n",
    "    img = Image.open(i).convert('L')\n",
    "    img = ImageOps.invert(img)\n",
    "    img = img.resize((100,100), Image.ANTIALIAS)\n",
    "    pixel = np.array(img)\n",
    "    pixel = pixel/255.0 * 16\n",
    "    pixel = pixel.astype('int')\n",
    "    picture[j,:] = pixel.reshape(1,-1)\n",
    "    j = j+1"
   ]
  },
  {
   "cell_type": "markdown",
   "metadata": {},
   "source": [
    "# Check Picture"
   ]
  },
  {
   "cell_type": "code",
   "execution_count": 3,
   "metadata": {
    "scrolled": true
   },
   "outputs": [
    {
     "data": {
      "text/plain": [
       "<matplotlib.image.AxesImage at 0x1a8c75fe880>"
      ]
     },
     "execution_count": 3,
     "metadata": {},
     "output_type": "execute_result"
    },
    {
     "data": {
      "image/png": "[encoded data removed]",
      "text/plain": [
       "<Figure size 432x288 with 1 Axes>"
      ]
     },
     "metadata": {
      "needs_background": "light"
     },
     "output_type": "display_data"
    }
   ],
   "source": [
    "#fig = plt.figure(figsize = (2, 2))\n",
    "plt.imshow(picture[18].reshape(100, 100), cmap=plt.cm.binary )"
   ]
  },
  {
   "cell_type": "markdown",
   "metadata": {},
   "source": [
    "# Input type of  each picture"
   ]
  },
  {
   "cell_type": "code",
   "execution_count": 4,
   "metadata": {},
   "outputs": [],
   "source": [
    "y = [ 'flying', 'flying', 'flying', 'flying', 'flying', 'flying', 'flying', 'flying', 'flying', 'flying', 'flying', 'flying'\n",
    "      , 'flying', 'flying', 'flying', 'flying', 'flying', 'flying', 'flying', 'flying', 'flying', 'flying', 'flying', 'flying'\n",
    "      , 'non-flying', 'non-flying', 'non-flying', 'non-flying', 'non-flying', 'non-flying', 'non-flying', 'non-flying'\n",
    "      , 'non-flying', 'non-flying', 'non-flying', 'non-flying', 'non-flying', 'non-flying', 'non-flying', 'non-flying'\n",
    "      , 'non-flying', 'non-flying', 'non-flying', 'non-flying', 'non-flying', 'non-flying', 'non-flying', 'non-flying'\n",
    "      , 'non-flying', 'non-flying', 'non-flying', 'non-flying', 'non-flying', 'non-flying' ]"
   ]
  },
  {
   "cell_type": "markdown",
   "metadata": {},
   "source": [
    "# Split Data into train-test set"
   ]
  },
  {
   "cell_type": "code",
   "execution_count": 5,
   "metadata": {},
   "outputs": [],
   "source": [
    "X = picture\n",
    "X_train, X_test, y_train, y_test = train_test_split(X, y, train_size = 0.8, random_state=6 )"
   ]
  },
  {
   "cell_type": "code",
   "execution_count": 6,
   "metadata": {},
   "outputs": [
    {
     "name": "stdout",
     "output_type": "stream",
     "text": [
      "11\n",
      "11\n",
      "43\n",
      "43\n"
     ]
    }
   ],
   "source": [
    "print(len(X_test))\n",
    "print(len(y_test))\n",
    "print(len(X_train))\n",
    "print(len(y_train))"
   ]
  },
  {
   "cell_type": "markdown",
   "metadata": {},
   "source": [
    "# Fit model"
   ]
  },
  {
   "cell_type": "code",
   "execution_count": 7,
   "metadata": {},
   "outputs": [
    {
     "data": {
      "text/plain": [
       "MLPClassifier()"
      ]
     },
     "execution_count": 7,
     "metadata": {},
     "output_type": "execute_result"
    }
   ],
   "source": [
    "model = MLPClassifier()\n",
    "model.fit(X_train, y_train)"
   ]
  },
  {
   "cell_type": "code",
   "execution_count": 8,
   "metadata": {},
   "outputs": [],
   "source": [
    "y_predict = model.predict(X_test)"
   ]
  },
  {
   "cell_type": "code",
   "execution_count": 9,
   "metadata": {},
   "outputs": [
    {
     "data": {
      "text/html": [
       "<div>\n",
       "<style scoped>\n",
       "    .dataframe tbody tr th:only-of-type {\n",
       "        vertical-align: middle;\n",
       "    }\n",
       "\n",
       "    .dataframe tbody tr th {\n",
       "        vertical-align: top;\n",
       "    }\n",
       "\n",
       "    .dataframe thead th {\n",
       "        text-align: right;\n",
       "    }\n",
       "</style>\n",
       "<table border=\"1\" class=\"dataframe\">\n",
       "  <thead>\n",
       "    <tr style=\"text-align: right;\">\n",
       "      <th></th>\n",
       "      <th>Test</th>\n",
       "      <th>predicted</th>\n",
       "    </tr>\n",
       "  </thead>\n",
       "  <tbody>\n",
       "    <tr>\n",
       "      <th>0</th>\n",
       "      <td>non-flying</td>\n",
       "      <td>non-flying</td>\n",
       "    </tr>\n",
       "    <tr>\n",
       "      <th>1</th>\n",
       "      <td>non-flying</td>\n",
       "      <td>non-flying</td>\n",
       "    </tr>\n",
       "    <tr>\n",
       "      <th>2</th>\n",
       "      <td>non-flying</td>\n",
       "      <td>non-flying</td>\n",
       "    </tr>\n",
       "    <tr>\n",
       "      <th>3</th>\n",
       "      <td>flying</td>\n",
       "      <td>flying</td>\n",
       "    </tr>\n",
       "    <tr>\n",
       "      <th>4</th>\n",
       "      <td>flying</td>\n",
       "      <td>flying</td>\n",
       "    </tr>\n",
       "    <tr>\n",
       "      <th>5</th>\n",
       "      <td>flying</td>\n",
       "      <td>flying</td>\n",
       "    </tr>\n",
       "    <tr>\n",
       "      <th>6</th>\n",
       "      <td>flying</td>\n",
       "      <td>flying</td>\n",
       "    </tr>\n",
       "    <tr>\n",
       "      <th>7</th>\n",
       "      <td>non-flying</td>\n",
       "      <td>non-flying</td>\n",
       "    </tr>\n",
       "    <tr>\n",
       "      <th>8</th>\n",
       "      <td>flying</td>\n",
       "      <td>flying</td>\n",
       "    </tr>\n",
       "    <tr>\n",
       "      <th>9</th>\n",
       "      <td>non-flying</td>\n",
       "      <td>non-flying</td>\n",
       "    </tr>\n",
       "    <tr>\n",
       "      <th>10</th>\n",
       "      <td>non-flying</td>\n",
       "      <td>non-flying</td>\n",
       "    </tr>\n",
       "  </tbody>\n",
       "</table>\n",
       "</div>"
      ],
      "text/plain": [
       "          Test  predicted \n",
       "0   non-flying  non-flying\n",
       "1   non-flying  non-flying\n",
       "2   non-flying  non-flying\n",
       "3       flying      flying\n",
       "4       flying      flying\n",
       "5       flying      flying\n",
       "6       flying      flying\n",
       "7   non-flying  non-flying\n",
       "8       flying      flying\n",
       "9   non-flying  non-flying\n",
       "10  non-flying  non-flying"
      ]
     },
     "execution_count": 9,
     "metadata": {},
     "output_type": "execute_result"
    }
   ],
   "source": [
    "df = pd.DataFrame (data = y_test, columns = ['Test'])\n",
    "df[' predicted '] = y_predict\n",
    "df"
   ]
  },
  {
   "cell_type": "code",
   "execution_count": 10,
   "metadata": {},
   "outputs": [
    {
     "name": "stdout",
     "output_type": "stream",
     "text": [
      "Accuracy (%) :100.00% \n",
      "\n",
      "Confusion Matrix:\n",
      " [[5 0]\n",
      " [0 6]]\n",
      "\n",
      " Classification Report \n",
      "               precision    recall  f1-score   support\n",
      "\n",
      "      flying       1.00      1.00      1.00         5\n",
      "  non-flying       1.00      1.00      1.00         6\n",
      "\n",
      "    accuracy                           1.00        11\n",
      "   macro avg       1.00      1.00      1.00        11\n",
      "weighted avg       1.00      1.00      1.00        11\n",
      "\n"
     ]
    }
   ],
   "source": [
    "print('Accuracy (%) :{:.2f}% \\n'.format(accuracy_score(y_test, y_predict)*100))\n",
    "print('Confusion Matrix:\\n',confusion_matrix(y_test, y_predict))\n",
    "print('\\n Classification Report \\n',classification_report(y_test, y_predict))"
   ]
  },
  {
   "cell_type": "code",
   "execution_count": 11,
   "metadata": {
    "scrolled": true
   },
   "outputs": [
    {
     "name": "stdout",
     "output_type": "stream",
     "text": [
      "[0.90909091 0.90909091 0.72727273 0.72727273 1.        ]\n"
     ]
    },
    {
     "data": {
      "text/plain": [
       "0.8545454545454545"
      ]
     },
     "execution_count": 11,
     "metadata": {},
     "output_type": "execute_result"
    }
   ],
   "source": [
    "cvs = cross_val_score(model, X, y, cv = 5)\n",
    "print(cvs)\n",
    "cvs.mean()"
   ]
  },
  {
   "cell_type": "markdown",
   "metadata": {},
   "source": [
    "# Predict with unseen pictures"
   ]
  },
  {
   "cell_type": "code",
   "execution_count": 12,
   "metadata": {},
   "outputs": [
    {
     "data": {
      "image/png": "[encoded data removed]",
      "text/plain": [
       "<Figure size 432x288 with 1 Axes>"
      ]
     },
     "metadata": {
      "needs_background": "light"
     },
     "output_type": "display_data"
    }
   ],
   "source": [
    "model.fit(X, y)\n",
    "unseen = 'dodrio-f.png'\n",
    "img = Image.open(unseen).convert('L')\n",
    "img = ImageOps.invert(img)\n",
    "img = img.resize((100,100), Image.ANTIALIAS)\n",
    "pixel = np.array(img)\n",
    "pixel = pixel/255.0 * 16\n",
    "pixel = pixel.astype('int')\n",
    "pic = pixel.reshape(1,-1)\n",
    "predict = model.predict(pic)\n",
    "plt.imshow(pixel, cmap=plt.cm.binary)\n",
    "plt.title('Predicted : {}'.format(predict[0]))\n",
    "plt.show()"
   ]
  },
  {
   "cell_type": "code",
   "execution_count": 13,
   "metadata": {
    "scrolled": true
   },
   "outputs": [],
   "source": [
    "k=0\n",
    "testpic = np.zeros((11, 10000))\n",
    "unseenpic = ['flyingtest01.png', 'flyingtest02.png', 'flyingtest03.png', 'flyingtest04.png', 'flyingtest05.png'\n",
    "            , 'n-flyingtest01.png', 'n-flyingtest02.png', 'n-flyingtest03.png', 'n-flyingtest04.png', 'n-flyingtest05.png', 'n-flyingtest06.png']\n",
    "\n",
    "for i in unseenpic:\n",
    "    img = Image.open(i).convert('L')\n",
    "    img = ImageOps.invert(img)\n",
    "    img = img.resize((100,100), Image.ANTIALIAS)\n",
    "    pixel = np.array(img)\n",
    "    pixel = pixel/255.0 * 16\n",
    "    pixel = pixel.astype('int')\n",
    "    testpic[k,:] = pixel.reshape(1,-1)\n",
    "    predicttest = model.predict(testpic)\n",
    "    k = k+1"
   ]
  },
  {
   "cell_type": "code",
   "execution_count": 14,
   "metadata": {},
   "outputs": [
    {
     "data": {
      "text/html": [
       "<table border=\"1\" class=\"dataframe\">\n",
       "  <thead>\n",
       "    <tr style=\"text-align: right;\">\n",
       "      <th></th>\n",
       "      <th>Files</th>\n",
       "      <th>image</th>\n",
       "      <th>Predicted</th>\n",
       "    </tr>\n",
       "  </thead>\n",
       "  <tbody>\n",
       "    <tr>\n",
       "      <th>0</th>\n",
       "      <td>flyingtest01.png</td>\n",
       "      <td><img src=\"https://img.pokemondb.net/sprites/black-white/normal/lugia.png\" width=\"100\" ></td>\n",
       "      <td>flying</td>\n",
       "    </tr>\n",
       "    <tr>\n",
       "      <th>1</th>\n",
       "      <td>flyingtest02.png</td>\n",
       "      <td><img src=\"https://img.pokemondb.net/sprites/black-white/normal/braviary.png\" width=\"100\" ></td>\n",
       "      <td>flying</td>\n",
       "    </tr>\n",
       "    <tr>\n",
       "      <th>2</th>\n",
       "      <td>flyingtest03.png</td>\n",
       "      <td><img src=\"https://img.pokemondb.net/sprites/black-white/normal/venomoth.png\" width=\"100\" ></td>\n",
       "      <td>flying</td>\n",
       "    </tr>\n",
       "    <tr>\n",
       "      <th>3</th>\n",
       "      <td>flyingtest04.png</td>\n",
       "      <td><img src=\"https://img.pokemondb.net/sprites/diamond-pearl/normal/pelipper.png\" width=\"100\" ></td>\n",
       "      <td>flying</td>\n",
       "    </tr>\n",
       "    <tr>\n",
       "      <th>4</th>\n",
       "      <td>flyingtest05.png</td>\n",
       "      <td><img src=\"https://img.pokemondb.net/sprites/diamond-pearl/normal/xatu-f.png\" width=\"100\" ></td>\n",
       "      <td>flying</td>\n",
       "    </tr>\n",
       "    <tr>\n",
       "      <th>5</th>\n",
       "      <td>n-flyingtest01.png</td>\n",
       "      <td><img src=\"https://img.pokemondb.net/sprites/black-white/normal/bisharp.png\" width=\"100\" ></td>\n",
       "      <td>non-flying</td>\n",
       "    </tr>\n",
       "    <tr>\n",
       "      <th>6</th>\n",
       "      <td>n-flyingtest02.png</td>\n",
       "      <td><img src=\"https://img.pokemondb.net/sprites/black-white/normal/genesect.png\" width=\"100\" ></td>\n",
       "      <td>non-flying</td>\n",
       "    </tr>\n",
       "    <tr>\n",
       "      <th>7</th>\n",
       "      <td>n-flyingtest03.png</td>\n",
       "      <td><img src=\"https://img.pokemondb.net/sprites/black-white/normal/floatzel.png\" width=\"100\" ></td>\n",
       "      <td>non-flying</td>\n",
       "    </tr>\n",
       "    <tr>\n",
       "      <th>8</th>\n",
       "      <td>n-flyingtest04.png</td>\n",
       "      <td><img src=\"https://img.pokemondb.net/sprites/black-white/normal/fraxure.png\" width=\"100\" ></td>\n",
       "      <td>non-flying</td>\n",
       "    </tr>\n",
       "    <tr>\n",
       "      <th>9</th>\n",
       "      <td>n-flyingtest05.png</td>\n",
       "      <td><img src=\"https://img.pokemondb.net/sprites/black-white/normal/sceptile.png\" width=\"100\" ></td>\n",
       "      <td>non-flying</td>\n",
       "    </tr>\n",
       "    <tr>\n",
       "      <th>10</th>\n",
       "      <td>n-flyingtest06.png</td>\n",
       "      <td><img src=\"https://img.pokemondb.net/sprites/black-white/normal/registeel.png\" width=\"100\" ></td>\n",
       "      <td>non-flying</td>\n",
       "    </tr>\n",
       "  </tbody>\n",
       "</table>"
      ],
      "text/plain": [
       "<IPython.core.display.HTML object>"
      ]
     },
     "metadata": {},
     "output_type": "display_data"
    },
    {
     "data": {
      "text/plain": [
       "<function IPython.core.display.display(*objs, include=None, exclude=None, metadata=None, transient=None, display_id=None, **kwargs)>"
      ]
     },
     "execution_count": 14,
     "metadata": {},
     "output_type": "execute_result"
    }
   ],
   "source": [
    "df2 = pd.DataFrame(columns = ['Files','image'])\n",
    "images = ['https://img.pokemondb.net/sprites/black-white/normal/lugia.png',\n",
    "          'https://img.pokemondb.net/sprites/black-white/normal/braviary.png',\n",
    "         'https://img.pokemondb.net/sprites/black-white/normal/venomoth.png',\n",
    "          'https://img.pokemondb.net/sprites/diamond-pearl/normal/pelipper.png',\n",
    "         'https://img.pokemondb.net/sprites/diamond-pearl/normal/xatu-f.png',\n",
    "          'https://img.pokemondb.net/sprites/black-white/normal/bisharp.png',\n",
    "         'https://img.pokemondb.net/sprites/black-white/normal/genesect.png',\n",
    "          'https://img.pokemondb.net/sprites/black-white/normal/floatzel.png',\n",
    "         'https://img.pokemondb.net/sprites/black-white/normal/fraxure.png',\n",
    "         'https://img.pokemondb.net/sprites/black-white/normal/sceptile.png',\n",
    "         'https://img.pokemondb.net/sprites/black-white/normal/registeel.png'] \n",
    "\n",
    "\n",
    "df2['image'] = images\n",
    "\n",
    "def path_to_image_html(path):\n",
    "    return '<img src=\"'+ path + '\" width=\"100\" >'\n",
    "\n",
    "df2['Files'] = unseenpic\n",
    "df2['Predicted'] = predicttest\n",
    "\n",
    "display(HTML(df2.to_html(escape=False ,formatters=dict(image=path_to_image_html))))\n",
    "display"
   ]
  },
  {
   "cell_type": "code",
   "execution_count": null,
   "metadata": {},
   "outputs": [],
   "source": []
  }
 ],
 "metadata": {
  "kernelspec": {
   "display_name": "Python 3",
   "language": "python",
   "name": "python3"
  },
  "language_info": {
   "codemirror_mode": {
    "name": "ipython",
    "version": 3
   },
   "file_extension": ".py",
   "mimetype": "text/x-python",
   "name": "python",
   "nbconvert_exporter": "python",
   "pygments_lexer": "ipython3",
   "version": "3.8.5"
  }
 },
 "nbformat": 4,
 "nbformat_minor": 4
}
